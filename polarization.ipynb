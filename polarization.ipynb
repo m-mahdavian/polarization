{
  "cells": [
    {
      "cell_type": "markdown",
      "metadata": {
        "id": "view-in-github",
        "colab_type": "text"
      },
      "source": [
        "<a href=\"https://colab.research.google.com/github/m-mahdavian/polarization/blob/main/polarization.ipynb\" target=\"_parent\"><img src=\"https://colab.research.google.com/assets/colab-badge.svg\" alt=\"Open In Colab\"/></a>"
      ]
    },
    {
      "cell_type": "code",
      "execution_count": 1,
      "metadata": {
        "id": "YKDavE02kMYo"
      },
      "outputs": [],
      "source": [
        "import pandas as pd\n",
        "import numpy as np\n",
        "import openpyxl\n",
        "from openpyxl import Workbook\n",
        "from itertools import islice\n",
        "from scipy.optimize import curve_fit\n",
        "import matplotlib.pyplot as plt\n",
        "import math"
      ]
    },
    {
      "cell_type": "markdown",
      "source": [
        "# Construction of Data Framework"
      ],
      "metadata": {
        "id": "UUrGjP0rNVdg"
      }
    },
    {
      "cell_type": "code",
      "execution_count": 3,
      "metadata": {
        "id": "0UMzwgmvpbhg"
      },
      "outputs": [],
      "source": [
        "workbook = openpyxl.load_workbook('polarization.xlsx')\n",
        "worksheet = workbook.active"
      ]
    },
    {
      "cell_type": "code",
      "execution_count": 4,
      "metadata": {
        "id": "vEBFAwvB-PiH"
      },
      "outputs": [],
      "source": [
        "data = worksheet.values\n",
        "cols = next(data)\n",
        "data = list(data)\n",
        "idx=islice(range(len(data)), 0, None, 1)\n",
        "data = (islice(r, 0, None) for r in data)\n",
        "df=pd.DataFrame(data, index=idx, columns=cols)"
      ]
    },
    {
      "cell_type": "markdown",
      "source": [
        "#Introduction of Wagner-Traud Equation (WTE)"
      ],
      "metadata": {
        "id": "BDewnHitNDAz"
      }
    },
    {
      "cell_type": "code",
      "source": [
        "def WTE(E, beta_a, beta_c, i_corr):\n",
        "  return i_corr*((np.exp((E-E_corr)/beta_a)) - (np.exp((E-E_corr)/beta_c)))"
      ],
      "metadata": {
        "id": "vGWV3tUWizBl"
      },
      "execution_count": 5,
      "outputs": []
    },
    {
      "cell_type": "markdown",
      "source": [
        "#Data Fitting"
      ],
      "metadata": {
        "id": "NmWU2gK3Np8t"
      }
    },
    {
      "cell_type": "code",
      "source": [
        "i=0\n",
        "df_afit = pd.DataFrame()\n",
        "\n",
        "plt.gca().set_prop_cycle(color=['blue', 'blue', 'orange', 'orange', 'green', 'green', 'red', 'red', 'purple', 'purple', 'brown', 'brown','pink','pink', 'gray','gray','olive','olive','cyan', 'cyan', 'navy','navy', 'violet', 'violet'])\n",
        "\n",
        "while i<len(df.iloc[1, :]):\n",
        "  selected = df.iloc[:, i:i+2].dropna()\n",
        "  print(selected)\n",
        "  print(list(selected)[0])\n",
        "  index_labels = selected.index[:1]\n",
        "  selected_new = selected.drop(index_labels, axis=0).reset_index(inplace=False).drop('index', axis=1)\n",
        "  selected_new.columns = [\"E\", \"i\"]\n",
        "\n",
        "  abs_selected=selected_new.copy()\n",
        "  print(\"length of the selected data: \", len(abs_selected))\n",
        "  abs_selected.iloc[:,1]=abs_selected.iloc[:,1].abs()\n",
        "  row_min_i=abs_selected[abs_selected.i == abs_selected.i.min()]\n",
        "  min_i=row_min_i.iloc[0,1]\n",
        "  E_corr=row_min_i.iloc[0,0]\n",
        "\n",
        "  # Adjust the fitting range in this line.\n",
        "  df_bfit=selected_new[selected_new['E'].between(E_corr-100, E_corr+100)]\n",
        "\n",
        "  df_bfit\n",
        "  x_data = df_bfit[\"E\"]\n",
        "  y_data = df_bfit[\"i\"]\n",
        "  x_data = x_data.astype('float64')\n",
        "  y_data = y_data.astype('float64')\n",
        "\n",
        "  #Initial guess\n",
        "  p0 = [100, -100, min_i*10]\n",
        "\n",
        "  popt, pcov = curve_fit(WTE, x_data, y_data, p0)\n",
        "  print(\"beta_a =\", round(popt[0], 1), \"mV/dec\")\n",
        "  print(\"beta_c =\", round(popt[1], 1), \"mV/dec\")\n",
        "  print(\"E_corr =\", round(E_corr, 1), \"mV\")\n",
        "  print(\"i_corr =\", round(popt[2], 1), \"μA/cm\\u00b2\")\n",
        "\n",
        "  #Stern-Geary Equation\n",
        "  R_p=-1000*(popt[0]*popt[1]/(popt[0]-popt[1]))/(2.3*popt[2])\n",
        "  print(\"R_p =\", round(R_p, 1), \"Ohm.cm\\u00b2\")\n",
        "  print(\"---------------------\")\n",
        "\n",
        "  lbl1=list(selected)[0]+\" (measured)\"\n",
        "  plt.plot(selected_new['E'], selected_new['i'].abs(), label=lbl1)\n",
        "\n",
        "  x_fit = np.linspace(min(x_data), max(x_data), 100)\n",
        "  y_fit = WTE(x_fit, *popt)\n",
        "\n",
        "  lbl2=list(selected)[0]+\" E\"\n",
        "  lbl3=list(selected)[0]+\" i_fit\"\n",
        "\n",
        "  df_i_list = [x_fit, y_fit]\n",
        "  df_i = pd.DataFrame(df_i_list).transpose()\n",
        "  df_i.columns = [lbl2, lbl3]\n",
        "  df_afit = pd.concat([df_afit, df_i], axis=1).copy()\n",
        "\n",
        "  plt.plot(x_fit, np.abs(y_fit), label=\"Fit\", linewidth=5, alpha=0.4)\n",
        "  plt.xlabel(\"E (mV)\")\n",
        "  plt.ylabel(\"i (μA/$\\mathregular{cm^{2}}$)\")\n",
        "  plt.legend(loc='upper center', bbox_to_anchor=(0.5, -0.1),fancybox=True, shadow=True, ncol=4)\n",
        "  plt.yscale(\"log\")\n",
        "  i+=2\n",
        "\n",
        "df_afit.to_excel(\"fitting_curves.xlsx\",index=False)\n"
      ],
      "metadata": {
        "id": "m_DidQDchBYN"
      },
      "execution_count": null,
      "outputs": []
    }
  ],
  "metadata": {
    "colab": {
      "provenance": [],
      "authorship_tag": "ABX9TyO+iULEGnzgHLvhumDBat06",
      "include_colab_link": true
    },
    "kernelspec": {
      "display_name": "Python 3",
      "name": "python3"
    },
    "language_info": {
      "name": "python"
    }
  },
  "nbformat": 4,
  "nbformat_minor": 0
}